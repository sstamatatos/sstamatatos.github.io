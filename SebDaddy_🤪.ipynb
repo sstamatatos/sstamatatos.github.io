{
  "nbformat": 4,
  "nbformat_minor": 0,
  "metadata": {
    "colab": {
      "name": "SebDaddy 🤪",
      "provenance": [],
      "include_colab_link": true
    },
    "kernelspec": {
      "name": "python3",
      "display_name": "Python 3"
    }
  },
  "cells": [
    {
      "cell_type": "markdown",
      "metadata": {
        "id": "view-in-github",
        "colab_type": "text"
      },
      "source": [
        "<a href=\"https://colab.research.google.com/github/sstamatatos/sstamatatos.github.io/blob/master/SebDaddy_%F0%9F%A4%AA.ipynb\" target=\"_parent\"><img src=\"https://colab.research.google.com/assets/colab-badge.svg\" alt=\"Open In Colab\"/></a>"
      ]
    },
    {
      "cell_type": "code",
      "metadata": {
        "id": "3nSOCc98CQOT",
        "colab_type": "code",
        "outputId": "ecca6295-c6a5-4c80-8d56-080888400c4d",
        "colab": {
          "base_uri": "https://localhost:8080/",
          "height": 81
        }
      },
      "source": [
        "# Initial Import Libararies\n",
        "import math\n",
        "import numpy as np\n",
        "import pandas as pd\n",
        "import matplotlib.pyplot as plt\n",
        "import pandas_datareader as web\n",
        "from pandas import concat\n",
        "from keras.models import Sequential\n",
        "from keras.layers import Dense, LSTM\n",
        "from sklearn.preprocessing import MinMaxScaler\n",
        "import matplotlib.pyplot as plt\n",
        "plt.style.use('fivethirtyeight')"
      ],
      "execution_count": 1,
      "outputs": [
        {
          "output_type": "stream",
          "text": [
            "Using TensorFlow backend.\n"
          ],
          "name": "stderr"
        },
        {
          "output_type": "display_data",
          "data": {
            "text/html": [
              "<p style=\"color: red;\">\n",
              "The default version of TensorFlow in Colab will soon switch to TensorFlow 2.x.<br>\n",
              "We recommend you <a href=\"https://www.tensorflow.org/guide/migrate\" target=\"_blank\">upgrade</a> now \n",
              "or ensure your notebook will continue to use TensorFlow 1.x via the <code>%tensorflow_version 1.x</code> magic:\n",
              "<a href=\"https://colab.research.google.com/notebooks/tensorflow_version.ipynb\" target=\"_blank\">more info</a>.</p>\n"
            ],
            "text/plain": [
              "<IPython.core.display.HTML object>"
            ]
          },
          "metadata": {
            "tags": []
          }
        }
      ]
    },
    {
      "cell_type": "code",
      "metadata": {
        "id": "-StZMJOtCq1T",
        "colab_type": "code",
        "outputId": "3b9266a2-f035-4a2c-b2aa-9ea2dfb20286",
        "colab": {
          "base_uri": "https://localhost:8080/",
          "height": 446
        }
      },
      "source": [
        "# Parameters:\n",
        "tickerID = \"MSFT\" #@param {type:\"string\"}\n",
        "startDate = \"2000-01-01\" #@param {type:\"date\"}\n",
        "\n",
        "# Get Desired Stock Data\n",
        "rawdf = web.DataReader(tickerID, data_source='yahoo', start=startDate)\n",
        "\n",
        "# Show the data\n",
        "rawdf"
      ],
      "execution_count": 2,
      "outputs": [
        {
          "output_type": "execute_result",
          "data": {
            "text/html": [
              "<div>\n",
              "<style scoped>\n",
              "    .dataframe tbody tr th:only-of-type {\n",
              "        vertical-align: middle;\n",
              "    }\n",
              "\n",
              "    .dataframe tbody tr th {\n",
              "        vertical-align: top;\n",
              "    }\n",
              "\n",
              "    .dataframe thead th {\n",
              "        text-align: right;\n",
              "    }\n",
              "</style>\n",
              "<table border=\"1\" class=\"dataframe\">\n",
              "  <thead>\n",
              "    <tr style=\"text-align: right;\">\n",
              "      <th></th>\n",
              "      <th>High</th>\n",
              "      <th>Low</th>\n",
              "      <th>Open</th>\n",
              "      <th>Close</th>\n",
              "      <th>Volume</th>\n",
              "      <th>Adj Close</th>\n",
              "    </tr>\n",
              "    <tr>\n",
              "      <th>Date</th>\n",
              "      <th></th>\n",
              "      <th></th>\n",
              "      <th></th>\n",
              "      <th></th>\n",
              "      <th></th>\n",
              "      <th></th>\n",
              "    </tr>\n",
              "  </thead>\n",
              "  <tbody>\n",
              "    <tr>\n",
              "      <th>2000-01-03</th>\n",
              "      <td>59.312500</td>\n",
              "      <td>56.000000</td>\n",
              "      <td>58.687500</td>\n",
              "      <td>58.281250</td>\n",
              "      <td>53228400.0</td>\n",
              "      <td>37.495686</td>\n",
              "    </tr>\n",
              "    <tr>\n",
              "      <th>2000-01-04</th>\n",
              "      <td>58.562500</td>\n",
              "      <td>56.125000</td>\n",
              "      <td>56.781250</td>\n",
              "      <td>56.312500</td>\n",
              "      <td>54119000.0</td>\n",
              "      <td>36.229057</td>\n",
              "    </tr>\n",
              "    <tr>\n",
              "      <th>2000-01-05</th>\n",
              "      <td>58.187500</td>\n",
              "      <td>54.687500</td>\n",
              "      <td>55.562500</td>\n",
              "      <td>56.906250</td>\n",
              "      <td>64059600.0</td>\n",
              "      <td>36.611080</td>\n",
              "    </tr>\n",
              "    <tr>\n",
              "      <th>2000-01-06</th>\n",
              "      <td>56.937500</td>\n",
              "      <td>54.187500</td>\n",
              "      <td>56.093750</td>\n",
              "      <td>55.000000</td>\n",
              "      <td>54976600.0</td>\n",
              "      <td>35.384666</td>\n",
              "    </tr>\n",
              "    <tr>\n",
              "      <th>2000-01-07</th>\n",
              "      <td>56.125000</td>\n",
              "      <td>53.656250</td>\n",
              "      <td>54.312500</td>\n",
              "      <td>55.718750</td>\n",
              "      <td>62013600.0</td>\n",
              "      <td>35.847076</td>\n",
              "    </tr>\n",
              "    <tr>\n",
              "      <th>...</th>\n",
              "      <td>...</td>\n",
              "      <td>...</td>\n",
              "      <td>...</td>\n",
              "      <td>...</td>\n",
              "      <td>...</td>\n",
              "      <td>...</td>\n",
              "    </tr>\n",
              "    <tr>\n",
              "      <th>2020-02-11</th>\n",
              "      <td>190.699997</td>\n",
              "      <td>183.500000</td>\n",
              "      <td>190.649994</td>\n",
              "      <td>184.440002</td>\n",
              "      <td>53159900.0</td>\n",
              "      <td>184.440002</td>\n",
              "    </tr>\n",
              "    <tr>\n",
              "      <th>2020-02-12</th>\n",
              "      <td>185.850006</td>\n",
              "      <td>181.850006</td>\n",
              "      <td>185.580002</td>\n",
              "      <td>184.710007</td>\n",
              "      <td>47062900.0</td>\n",
              "      <td>184.710007</td>\n",
              "    </tr>\n",
              "    <tr>\n",
              "      <th>2020-02-13</th>\n",
              "      <td>186.229996</td>\n",
              "      <td>182.869995</td>\n",
              "      <td>183.080002</td>\n",
              "      <td>183.710007</td>\n",
              "      <td>35295800.0</td>\n",
              "      <td>183.710007</td>\n",
              "    </tr>\n",
              "    <tr>\n",
              "      <th>2020-02-14</th>\n",
              "      <td>185.410004</td>\n",
              "      <td>182.649994</td>\n",
              "      <td>183.250000</td>\n",
              "      <td>185.350006</td>\n",
              "      <td>23149500.0</td>\n",
              "      <td>185.350006</td>\n",
              "    </tr>\n",
              "    <tr>\n",
              "      <th>2020-02-18</th>\n",
              "      <td>187.699997</td>\n",
              "      <td>185.500000</td>\n",
              "      <td>185.610001</td>\n",
              "      <td>187.229996</td>\n",
              "      <td>27792200.0</td>\n",
              "      <td>187.229996</td>\n",
              "    </tr>\n",
              "  </tbody>\n",
              "</table>\n",
              "<p>5063 rows × 6 columns</p>\n",
              "</div>"
            ],
            "text/plain": [
              "                  High         Low  ...      Volume   Adj Close\n",
              "Date                                ...                        \n",
              "2000-01-03   59.312500   56.000000  ...  53228400.0   37.495686\n",
              "2000-01-04   58.562500   56.125000  ...  54119000.0   36.229057\n",
              "2000-01-05   58.187500   54.687500  ...  64059600.0   36.611080\n",
              "2000-01-06   56.937500   54.187500  ...  54976600.0   35.384666\n",
              "2000-01-07   56.125000   53.656250  ...  62013600.0   35.847076\n",
              "...                ...         ...  ...         ...         ...\n",
              "2020-02-11  190.699997  183.500000  ...  53159900.0  184.440002\n",
              "2020-02-12  185.850006  181.850006  ...  47062900.0  184.710007\n",
              "2020-02-13  186.229996  182.869995  ...  35295800.0  183.710007\n",
              "2020-02-14  185.410004  182.649994  ...  23149500.0  185.350006\n",
              "2020-02-18  187.699997  185.500000  ...  27792200.0  187.229996\n",
              "\n",
              "[5063 rows x 6 columns]"
            ]
          },
          "metadata": {
            "tags": []
          },
          "execution_count": 2
        }
      ]
    },
    {
      "cell_type": "code",
      "metadata": {
        "id": "wOS_JD6LCzj1",
        "colab_type": "code",
        "outputId": "1156ae6b-f0e1-4f17-b4ba-7ab8bb5e74ca",
        "colab": {
          "base_uri": "https://localhost:8080/",
          "height": 406
        }
      },
      "source": [
        "# Visualize Raw Adj Close Data\n",
        "plt.plot(rawdf['Adj Close'])\n",
        "plt.show()"
      ],
      "execution_count": 3,
      "outputs": [
        {
          "output_type": "stream",
          "text": [
            "/usr/local/lib/python3.6/dist-packages/pandas/plotting/_matplotlib/converter.py:103: FutureWarning: Using an implicitly registered datetime converter for a matplotlib plotting method. The converter was registered by pandas on import. Future versions of pandas will require you to explicitly register matplotlib converters.\n",
            "\n",
            "To register the converters:\n",
            "\t>>> from pandas.plotting import register_matplotlib_converters\n",
            "\t>>> register_matplotlib_converters()\n",
            "  warnings.warn(msg, FutureWarning)\n"
          ],
          "name": "stderr"
        },
        {
          "output_type": "display_data",
          "data": {
            "image/png": "[encoded data removed]",
            "text/plain": [
              "<Figure size 432x288 with 1 Axes>"
            ]
          },
          "metadata": {
            "tags": []
          }
        }
      ]
    },
    {
      "cell_type": "code",
      "metadata": {
        "id": "JIDmxN5BC5id",
        "colab_type": "code",
        "outputId": "3d2189a4-af3a-4084-dd73-1b00c486ce3a",
        "colab": {
          "base_uri": "https://localhost:8080/",
          "height": 446
        }
      },
      "source": [
        "# Drop Close Column\n",
        "rawdf = rawdf.drop(columns='Close')\n",
        "\n",
        "#Show Raw Data\n",
        "rawdf"
      ],
      "execution_count": 4,
      "outputs": [
        {
          "output_type": "execute_result",
          "data": {
            "text/html": [
              "<div>\n",
              "<style scoped>\n",
              "    .dataframe tbody tr th:only-of-type {\n",
              "        vertical-align: middle;\n",
              "    }\n",
              "\n",
              "    .dataframe tbody tr th {\n",
              "        vertical-align: top;\n",
              "    }\n",
              "\n",
              "    .dataframe thead th {\n",
              "        text-align: right;\n",
              "    }\n",
              "</style>\n",
              "<table border=\"1\" class=\"dataframe\">\n",
              "  <thead>\n",
              "    <tr style=\"text-align: right;\">\n",
              "      <th></th>\n",
              "      <th>High</th>\n",
              "      <th>Low</th>\n",
              "      <th>Open</th>\n",
              "      <th>Volume</th>\n",
              "      <th>Adj Close</th>\n",
              "    </tr>\n",
              "    <tr>\n",
              "      <th>Date</th>\n",
              "      <th></th>\n",
              "      <th></th>\n",
              "      <th></th>\n",
              "      <th></th>\n",
              "      <th></th>\n",
              "    </tr>\n",
              "  </thead>\n",
              "  <tbody>\n",
              "    <tr>\n",
              "      <th>2000-01-03</th>\n",
              "      <td>59.312500</td>\n",
              "      <td>56.000000</td>\n",
              "      <td>58.687500</td>\n",
              "      <td>53228400.0</td>\n",
              "      <td>37.495686</td>\n",
              "    </tr>\n",
              "    <tr>\n",
              "      <th>2000-01-04</th>\n",
              "      <td>58.562500</td>\n",
              "      <td>56.125000</td>\n",
              "      <td>56.781250</td>\n",
              "      <td>54119000.0</td>\n",
              "      <td>36.229057</td>\n",
              "    </tr>\n",
              "    <tr>\n",
              "      <th>2000-01-05</th>\n",
              "      <td>58.187500</td>\n",
              "      <td>54.687500</td>\n",
              "      <td>55.562500</td>\n",
              "      <td>64059600.0</td>\n",
              "      <td>36.611080</td>\n",
              "    </tr>\n",
              "    <tr>\n",
              "      <th>2000-01-06</th>\n",
              "      <td>56.937500</td>\n",
              "      <td>54.187500</td>\n",
              "      <td>56.093750</td>\n",
              "      <td>54976600.0</td>\n",
              "      <td>35.384666</td>\n",
              "    </tr>\n",
              "    <tr>\n",
              "      <th>2000-01-07</th>\n",
              "      <td>56.125000</td>\n",
              "      <td>53.656250</td>\n",
              "      <td>54.312500</td>\n",
              "      <td>62013600.0</td>\n",
              "      <td>35.847076</td>\n",
              "    </tr>\n",
              "    <tr>\n",
              "      <th>...</th>\n",
              "      <td>...</td>\n",
              "      <td>...</td>\n",
              "      <td>...</td>\n",
              "      <td>...</td>\n",
              "      <td>...</td>\n",
              "    </tr>\n",
              "    <tr>\n",
              "      <th>2020-02-11</th>\n",
              "      <td>190.699997</td>\n",
              "      <td>183.500000</td>\n",
              "      <td>190.649994</td>\n",
              "      <td>53159900.0</td>\n",
              "      <td>184.440002</td>\n",
              "    </tr>\n",
              "    <tr>\n",
              "      <th>2020-02-12</th>\n",
              "      <td>185.850006</td>\n",
              "      <td>181.850006</td>\n",
              "      <td>185.580002</td>\n",
              "      <td>47062900.0</td>\n",
              "      <td>184.710007</td>\n",
              "    </tr>\n",
              "    <tr>\n",
              "      <th>2020-02-13</th>\n",
              "      <td>186.229996</td>\n",
              "      <td>182.869995</td>\n",
              "      <td>183.080002</td>\n",
              "      <td>35295800.0</td>\n",
              "      <td>183.710007</td>\n",
              "    </tr>\n",
              "    <tr>\n",
              "      <th>2020-02-14</th>\n",
              "      <td>185.410004</td>\n",
              "      <td>182.649994</td>\n",
              "      <td>183.250000</td>\n",
              "      <td>23149500.0</td>\n",
              "      <td>185.350006</td>\n",
              "    </tr>\n",
              "    <tr>\n",
              "      <th>2020-02-18</th>\n",
              "      <td>187.699997</td>\n",
              "      <td>185.500000</td>\n",
              "      <td>185.610001</td>\n",
              "      <td>27792200.0</td>\n",
              "      <td>187.229996</td>\n",
              "    </tr>\n",
              "  </tbody>\n",
              "</table>\n",
              "<p>5063 rows × 5 columns</p>\n",
              "</div>"
            ],
            "text/plain": [
              "                  High         Low        Open      Volume   Adj Close\n",
              "Date                                                                  \n",
              "2000-01-03   59.312500   56.000000   58.687500  53228400.0   37.495686\n",
              "2000-01-04   58.562500   56.125000   56.781250  54119000.0   36.229057\n",
              "2000-01-05   58.187500   54.687500   55.562500  64059600.0   36.611080\n",
              "2000-01-06   56.937500   54.187500   56.093750  54976600.0   35.384666\n",
              "2000-01-07   56.125000   53.656250   54.312500  62013600.0   35.847076\n",
              "...                ...         ...         ...         ...         ...\n",
              "2020-02-11  190.699997  183.500000  190.649994  53159900.0  184.440002\n",
              "2020-02-12  185.850006  181.850006  185.580002  47062900.0  184.710007\n",
              "2020-02-13  186.229996  182.869995  183.080002  35295800.0  183.710007\n",
              "2020-02-14  185.410004  182.649994  183.250000  23149500.0  185.350006\n",
              "2020-02-18  187.699997  185.500000  185.610001  27792200.0  187.229996\n",
              "\n",
              "[5063 rows x 5 columns]"
            ]
          },
          "metadata": {
            "tags": []
          },
          "execution_count": 4
        }
      ]
    },
    {
      "cell_type": "code",
      "metadata": {
        "id": "ZFndRvddC-eO",
        "colab_type": "code",
        "outputId": "dade8692-8194-45ea-8d30-d02486ee1c74",
        "colab": {
          "base_uri": "https://localhost:8080/",
          "height": 243
        }
      },
      "source": [
        "# Convert to numpy array\n",
        "data = np.array(rawdf)\n",
        "\n",
        "# Show Data\n",
        "data"
      ],
      "execution_count": 5,
      "outputs": [
        {
          "output_type": "execute_result",
          "data": {
            "text/plain": [
              "array([[5.93125000e+01, 5.60000000e+01, 5.86875000e+01, 5.32284000e+07,\n",
              "        3.74956856e+01],\n",
              "       [5.85625000e+01, 5.61250000e+01, 5.67812500e+01, 5.41190000e+07,\n",
              "        3.62290573e+01],\n",
              "       [5.81875000e+01, 5.46875000e+01, 5.55625000e+01, 6.40596000e+07,\n",
              "        3.66110802e+01],\n",
              "       ...,\n",
              "       [1.86229996e+02, 1.82869995e+02, 1.83080002e+02, 3.52958000e+07,\n",
              "        1.83710007e+02],\n",
              "       [1.85410004e+02, 1.82649994e+02, 1.83250000e+02, 2.31495000e+07,\n",
              "        1.85350006e+02],\n",
              "       [1.87699997e+02, 1.85500000e+02, 1.85610001e+02, 2.77922000e+07,\n",
              "        1.87229996e+02]])"
            ]
          },
          "metadata": {
            "tags": []
          },
          "execution_count": 5
        }
      ]
    },
    {
      "cell_type": "code",
      "metadata": {
        "id": "Nz48za8sDGb5",
        "colab_type": "code",
        "outputId": "61ceee18-7db4-40fc-9ceb-9d1b2ac5407c",
        "colab": {
          "base_uri": "https://localhost:8080/",
          "height": 173
        }
      },
      "source": [
        "# Split the Data into X and Y\n",
        "x_data = data[:, :4]\n",
        "y_data = data[:, 4]\n",
        "\n",
        "x_data, y_data"
      ],
      "execution_count": 6,
      "outputs": [
        {
          "output_type": "execute_result",
          "data": {
            "text/plain": [
              "(array([[5.93125000e+01, 5.60000000e+01, 5.86875000e+01, 5.32284000e+07],\n",
              "        [5.85625000e+01, 5.61250000e+01, 5.67812500e+01, 5.41190000e+07],\n",
              "        [5.81875000e+01, 5.46875000e+01, 5.55625000e+01, 6.40596000e+07],\n",
              "        ...,\n",
              "        [1.86229996e+02, 1.82869995e+02, 1.83080002e+02, 3.52958000e+07],\n",
              "        [1.85410004e+02, 1.82649994e+02, 1.83250000e+02, 2.31495000e+07],\n",
              "        [1.87699997e+02, 1.85500000e+02, 1.85610001e+02, 2.77922000e+07]]),\n",
              " array([ 37.49568558,  36.22905731,  36.61108017, ..., 183.71000671,\n",
              "        185.3500061 , 187.22999573]))"
            ]
          },
          "metadata": {
            "tags": []
          },
          "execution_count": 6
        }
      ]
    },
    {
      "cell_type": "code",
      "metadata": {
        "id": "e0Cm-TQwDPhA",
        "colab_type": "code",
        "outputId": "708f755b-76e5-47a6-8003-eaa21a5bf853",
        "colab": {
          "base_uri": "https://localhost:8080/",
          "height": 35
        }
      },
      "source": [
        "# Reshape Y Data\n",
        "y_data = np.reshape(y_data, (y_data.shape[0], 1))\n",
        "\n",
        "y_data.shape"
      ],
      "execution_count": 7,
      "outputs": [
        {
          "output_type": "execute_result",
          "data": {
            "text/plain": [
              "(5063, 1)"
            ]
          },
          "metadata": {
            "tags": []
          },
          "execution_count": 7
        }
      ]
    },
    {
      "cell_type": "code",
      "metadata": {
        "id": "2vs4Iq3SDtek",
        "colab_type": "code",
        "outputId": "a5fe93d9-2422-418f-dfe6-155532f7c6d2",
        "colab": {
          "base_uri": "https://localhost:8080/",
          "height": 260
        }
      },
      "source": [
        "# Scale the Data\n",
        "xscaler = MinMaxScaler(feature_range=(0, 1))\n",
        "yscaler = MinMaxScaler(feature_range=(0, 1))\n",
        "\n",
        "x_data_scaled = xscaler.fit_transform(x_data)\n",
        "y_data_scaled = yscaler.fit_transform(y_data)\n",
        "\n",
        "x_data_scaled, y_data_scaled"
      ],
      "execution_count": 8,
      "outputs": [
        {
          "output_type": "execute_result",
          "data": {
            "text/plain": [
              "(array([[0.24955735, 0.24104788, 0.24786265, 0.07847963],\n",
              "        [0.24527359, 0.24178046, 0.23699773, 0.08000561],\n",
              "        [0.24313172, 0.2333558 , 0.23005131, 0.09703807],\n",
              "        ...,\n",
              "        [0.97446881, 0.9845865 , 0.95685385, 0.04775348],\n",
              "        [0.96978528, 0.98329716, 0.95782277, 0.02694171],\n",
              "        [0.98286498, 1.        , 0.9712739 , 0.03489663]]),\n",
              " array([[0.14558775],\n",
              "        [0.1384304 ],\n",
              "        [0.1405891 ],\n",
              "        ...,\n",
              "        [0.97180299],\n",
              "        [0.98107016],\n",
              "        [0.99169344]]))"
            ]
          },
          "metadata": {
            "tags": []
          },
          "execution_count": 8
        }
      ]
    },
    {
      "cell_type": "code",
      "metadata": {
        "id": "MLfQRCN9Duif",
        "colab_type": "code",
        "colab": {}
      },
      "source": [
        "# Parameters\n",
        "numDays =  15#@param {type:\"integer\"}"
      ],
      "execution_count": 0,
      "outputs": []
    },
    {
      "cell_type": "code",
      "metadata": {
        "id": "pKDcqWA0Dz2P",
        "colab_type": "code",
        "outputId": "191edabf-1044-49b8-c2d5-0335f36a3137",
        "colab": {
          "base_uri": "https://localhost:8080/",
          "height": 35
        }
      },
      "source": [
        "# Create X and Y Train Data\n",
        "x_train = x_data_scaled[:x_data_scaled.shape[0] - numDays]\n",
        "y_train = y_data_scaled[numDays:]\n",
        "\n",
        "x_train.shape, y_train.shape"
      ],
      "execution_count": 10,
      "outputs": [
        {
          "output_type": "execute_result",
          "data": {
            "text/plain": [
              "((5048, 4), (5048, 1))"
            ]
          },
          "metadata": {
            "tags": []
          },
          "execution_count": 10
        }
      ]
    },
    {
      "cell_type": "code",
      "metadata": {
        "id": "Yggq_0MGD8ym",
        "colab_type": "code",
        "outputId": "1a790328-6090-40ea-bf3f-d2c2d47bc992",
        "colab": {
          "base_uri": "https://localhost:8080/",
          "height": 35
        }
      },
      "source": [
        "# Reshape X Data\n",
        "x_train = np.reshape(x_train, (x_train.shape[0], x_train.shape[1], 1))\n",
        "\n",
        "x_train.shape"
      ],
      "execution_count": 11,
      "outputs": [
        {
          "output_type": "execute_result",
          "data": {
            "text/plain": [
              "(5048, 4, 1)"
            ]
          },
          "metadata": {
            "tags": []
          },
          "execution_count": 11
        }
      ]
    },
    {
      "cell_type": "code",
      "metadata": {
        "id": "cun7d4r4EAeJ",
        "colab_type": "code",
        "outputId": "a87bef29-7755-40d1-a3e7-c354e5b97684",
        "colab": {
          "base_uri": "https://localhost:8080/",
          "height": 141
        }
      },
      "source": [
        "# Build LSTM Model\n",
        "model = Sequential()\n",
        "model.add(LSTM(100, return_sequences=True, input_shape=(x_train.shape[1], \n",
        "                                                       x_train.shape[2])))\n",
        "model.add(LSTM(50, return_sequences=False))\n",
        "model.add(Dense(25))\n",
        "model.add(Dense(1))"
      ],
      "execution_count": 12,
      "outputs": [
        {
          "output_type": "stream",
          "text": [
            "WARNING:tensorflow:From /usr/local/lib/python3.6/dist-packages/keras/backend/tensorflow_backend.py:66: The name tf.get_default_graph is deprecated. Please use tf.compat.v1.get_default_graph instead.\n",
            "\n",
            "WARNING:tensorflow:From /usr/local/lib/python3.6/dist-packages/keras/backend/tensorflow_backend.py:541: The name tf.placeholder is deprecated. Please use tf.compat.v1.placeholder instead.\n",
            "\n",
            "WARNING:tensorflow:From /usr/local/lib/python3.6/dist-packages/keras/backend/tensorflow_backend.py:4432: The name tf.random_uniform is deprecated. Please use tf.random.uniform instead.\n",
            "\n"
          ],
          "name": "stdout"
        }
      ]
    },
    {
      "cell_type": "code",
      "metadata": {
        "id": "pUBBr_WXEDt0",
        "colab_type": "code",
        "outputId": "5a663ca3-9d97-498a-804d-ab2b2fbd2962",
        "colab": {
          "base_uri": "https://localhost:8080/",
          "height": 72
        }
      },
      "source": [
        "# Compile the model\n",
        "model.compile(optimizer='adam', loss='mean_squared_error')"
      ],
      "execution_count": 13,
      "outputs": [
        {
          "output_type": "stream",
          "text": [
            "WARNING:tensorflow:From /usr/local/lib/python3.6/dist-packages/keras/optimizers.py:793: The name tf.train.Optimizer is deprecated. Please use tf.compat.v1.train.Optimizer instead.\n",
            "\n"
          ],
          "name": "stdout"
        }
      ]
    },
    {
      "cell_type": "code",
      "metadata": {
        "id": "DAVdlcE8EHIp",
        "colab_type": "code",
        "colab": {}
      },
      "source": [
        "# Reshape Scaled Data\n",
        "x_data_scaled = np.reshape(x_data_scaled, (x_data_scaled.shape[0], x_data_scaled.shape[1], 1))\n",
        "y_data_scaled = np.reshape(y_data_scaled, (y_data_scaled.shape[0], 1))"
      ],
      "execution_count": 0,
      "outputs": []
    },
    {
      "cell_type": "code",
      "metadata": {
        "id": "J3DQzXQOEKaR",
        "colab_type": "code",
        "outputId": "2dffd2b0-a66f-4fbe-ac2a-ae0615b7fc19",
        "colab": {
          "base_uri": "https://localhost:8080/",
          "height": 1000
        }
      },
      "source": [
        "# Train the model\n",
        "history = model.fit(x=x_train, y=y_train, validation_data=(x_data_scaled[:x_data_scaled.shape[0] - numDays], y_data_scaled[numDays:]), batch_size=50, epochs=numDays*4, shuffle=False)"
      ],
      "execution_count": 0,
      "outputs": [
        {
          "output_type": "stream",
          "text": [
            "WARNING:tensorflow:From /usr/local/lib/python3.6/dist-packages/tensorflow_core/python/ops/math_grad.py:1424: where (from tensorflow.python.ops.array_ops) is deprecated and will be removed in a future version.\n",
            "Instructions for updating:\n",
            "Use tf.where in 2.0, which has the same broadcast rule as np.where\n",
            "WARNING:tensorflow:From /usr/local/lib/python3.6/dist-packages/keras/backend/tensorflow_backend.py:1033: The name tf.assign_add is deprecated. Please use tf.compat.v1.assign_add instead.\n",
            "\n",
            "WARNING:tensorflow:From /usr/local/lib/python3.6/dist-packages/keras/backend/tensorflow_backend.py:1020: The name tf.assign is deprecated. Please use tf.compat.v1.assign instead.\n",
            "\n",
            "WARNING:tensorflow:From /usr/local/lib/python3.6/dist-packages/keras/backend/tensorflow_backend.py:3005: The name tf.Session is deprecated. Please use tf.compat.v1.Session instead.\n",
            "\n",
            "Train on 5048 samples, validate on 5048 samples\n",
            "Epoch 1/60\n",
            "WARNING:tensorflow:From /usr/local/lib/python3.6/dist-packages/keras/backend/tensorflow_backend.py:190: The name tf.get_default_session is deprecated. Please use tf.compat.v1.get_default_session instead.\n",
            "\n",
            "WARNING:tensorflow:From /usr/local/lib/python3.6/dist-packages/keras/backend/tensorflow_backend.py:197: The name tf.ConfigProto is deprecated. Please use tf.compat.v1.ConfigProto instead.\n",
            "\n",
            "WARNING:tensorflow:From /usr/local/lib/python3.6/dist-packages/keras/backend/tensorflow_backend.py:207: The name tf.global_variables is deprecated. Please use tf.compat.v1.global_variables instead.\n",
            "\n",
            "WARNING:tensorflow:From /usr/local/lib/python3.6/dist-packages/keras/backend/tensorflow_backend.py:216: The name tf.is_variable_initialized is deprecated. Please use tf.compat.v1.is_variable_initialized instead.\n",
            "\n",
            "WARNING:tensorflow:From /usr/local/lib/python3.6/dist-packages/keras/backend/tensorflow_backend.py:223: The name tf.variables_initializer is deprecated. Please use tf.compat.v1.variables_initializer instead.\n",
            "\n",
            "5048/5048 [==============================] - 4s 716us/step - loss: 6.2708e-04 - val_loss: 0.1187\n",
            "Epoch 2/60\n",
            "5048/5048 [==============================] - 2s 339us/step - loss: 0.0070 - val_loss: 0.2538\n",
            "Epoch 3/60\n",
            "5048/5048 [==============================] - 2s 325us/step - loss: 0.0157 - val_loss: 0.4171\n",
            "Epoch 4/60\n",
            "5048/5048 [==============================] - 2s 347us/step - loss: 0.0359 - val_loss: 0.0966\n",
            "Epoch 5/60\n",
            "5048/5048 [==============================] - 2s 335us/step - loss: 0.0326 - val_loss: 0.0460\n",
            "Epoch 6/60\n",
            "5048/5048 [==============================] - 2s 347us/step - loss: 0.0118 - val_loss: 0.0285\n",
            "Epoch 7/60\n",
            "5048/5048 [==============================] - 2s 343us/step - loss: 0.0045 - val_loss: 0.0084\n",
            "Epoch 8/60\n",
            "5048/5048 [==============================] - 2s 348us/step - loss: 0.0028 - val_loss: 0.0231\n",
            "Epoch 9/60\n",
            "5048/5048 [==============================] - 2s 347us/step - loss: 0.0058 - val_loss: 0.0232\n",
            "Epoch 10/60\n",
            "5048/5048 [==============================] - 2s 341us/step - loss: 0.0043 - val_loss: 0.0130\n",
            "Epoch 11/60\n",
            "5048/5048 [==============================] - 2s 331us/step - loss: 0.0037 - val_loss: 0.0190\n",
            "Epoch 12/60\n",
            "5048/5048 [==============================] - 2s 337us/step - loss: 0.0039 - val_loss: 0.0143\n",
            "Epoch 13/60\n",
            "5048/5048 [==============================] - 2s 344us/step - loss: 0.0031 - val_loss: 0.0134\n",
            "Epoch 14/60\n",
            "5048/5048 [==============================] - 2s 353us/step - loss: 0.0028 - val_loss: 0.0120\n",
            "Epoch 15/60\n",
            "5048/5048 [==============================] - 2s 339us/step - loss: 0.0025 - val_loss: 0.0107\n",
            "Epoch 16/60\n",
            "5048/5048 [==============================] - 2s 348us/step - loss: 0.0022 - val_loss: 0.0096\n",
            "Epoch 17/60\n",
            "5048/5048 [==============================] - 2s 341us/step - loss: 0.0019 - val_loss: 0.0083\n",
            "Epoch 18/60\n",
            "5048/5048 [==============================] - 2s 348us/step - loss: 0.0017 - val_loss: 0.0064\n",
            "Epoch 19/60\n",
            "5048/5048 [==============================] - 2s 334us/step - loss: 0.0016 - val_loss: 0.0046\n",
            "Epoch 20/60\n",
            "5048/5048 [==============================] - 2s 334us/step - loss: 0.0014 - val_loss: 0.0064\n",
            "Epoch 21/60\n",
            "5048/5048 [==============================] - 2s 332us/step - loss: 0.0018 - val_loss: 0.0085\n",
            "Epoch 22/60\n",
            "5048/5048 [==============================] - 2s 332us/step - loss: 0.0022 - val_loss: 0.0091\n",
            "Epoch 23/60\n",
            "5048/5048 [==============================] - 2s 333us/step - loss: 0.0024 - val_loss: 0.0096\n",
            "Epoch 24/60\n",
            "5048/5048 [==============================] - 2s 336us/step - loss: 0.0026 - val_loss: 0.0100\n",
            "Epoch 25/60\n",
            "5048/5048 [==============================] - 2s 349us/step - loss: 0.0027 - val_loss: 0.0104\n",
            "Epoch 26/60\n",
            "5048/5048 [==============================] - 2s 351us/step - loss: 0.0028 - val_loss: 0.0116\n",
            "Epoch 27/60\n",
            "5048/5048 [==============================] - 2s 351us/step - loss: 0.0029 - val_loss: 0.0144\n",
            "Epoch 28/60\n",
            "5048/5048 [==============================] - 2s 348us/step - loss: 0.0033 - val_loss: 0.0170\n",
            "Epoch 29/60\n",
            "5048/5048 [==============================] - 2s 343us/step - loss: 0.0033 - val_loss: 0.0148\n",
            "Epoch 30/60\n",
            "5048/5048 [==============================] - 2s 352us/step - loss: 0.0031 - val_loss: 0.0101\n",
            "Epoch 31/60\n",
            "5048/5048 [==============================] - 2s 352us/step - loss: 0.0027 - val_loss: 0.0084\n",
            "Epoch 32/60\n",
            "5048/5048 [==============================] - 2s 350us/step - loss: 0.0026 - val_loss: 0.0080\n",
            "Epoch 33/60\n",
            "5048/5048 [==============================] - 2s 348us/step - loss: 0.0025 - val_loss: 0.0080\n",
            "Epoch 34/60\n",
            "5048/5048 [==============================] - 2s 342us/step - loss: 0.0026 - val_loss: 0.0082\n",
            "Epoch 35/60\n",
            "2050/5048 [===========>..................] - ETA: 0s - loss: 0.0037"
          ],
          "name": "stdout"
        }
      ]
    },
    {
      "cell_type": "code",
      "metadata": {
        "id": "TDJyVDvaEob6",
        "colab_type": "code",
        "colab": {}
      },
      "source": [
        "# Get Forecast Values\n",
        "xforecast = x_data_scaled[x_data_scaled.shape[0] - numDays:]\n",
        "xforecast = np.reshape(xforecast, (xforecast.shape[0], xforecast.shape[1], 1))\n",
        "\n",
        "# Get Forecast\n",
        "forecast = model.predict(xforecast)\n",
        "forecast = yscaler.inverse_transform(forecast)"
      ],
      "execution_count": 0,
      "outputs": []
    },
    {
      "cell_type": "code",
      "metadata": {
        "id": "d8KtOgNBEt0f",
        "colab_type": "code",
        "colab": {}
      },
      "source": [
        "# Visualize Forecast\n",
        "plt.plot(forecast)\n",
        "plt.show()"
      ],
      "execution_count": 0,
      "outputs": []
    }
  ]
}